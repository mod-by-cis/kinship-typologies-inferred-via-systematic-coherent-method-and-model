{
 "cells": [
  {
   "cell_type": "code",
   "execution_count": null,
   "id": "dae9a474",
   "metadata": {},
   "outputs": [],
   "source": []
  },
  {
   "cell_type": "markdown",
   "id": "b28e5d04",
   "metadata": {},
   "source": []
  },
  {
   "cell_type": "markdown",
   "id": "eeeaea37",
   "metadata": {},
   "source": []
  }
 ],
 "metadata": {
  "kernelspec": {
   "display_name": "Deno",
   "language": "typescript",
   "name": "deno"
  },
  "language_info": {
   "name": "typescript"
  }
 },
 "nbformat": 4,
 "nbformat_minor": 5
}
